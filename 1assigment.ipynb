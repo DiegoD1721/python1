{
 "cells": [
  {
   "cell_type": "markdown",
   "id": "9de8a502-be14-46ef-a7c2-d27b120ede1e",
   "metadata": {},
   "source": [
    "## basic output\n"
   ]
  },
  {
   "cell_type": "code",
   "execution_count": 1,
   "id": "5116618a-0002-4988-9ff4-63f53f40729b",
   "metadata": {},
   "outputs": [
    {
     "name": "stdout",
     "output_type": "stream",
     "text": [
      "hello world\n"
     ]
    }
   ],
   "source": [
    "print(\"hello world\")"
   ]
  },
  {
   "cell_type": "code",
   "execution_count": 2,
   "id": "a37914bc-9a74-4904-89a8-63788c58ddd3",
   "metadata": {},
   "outputs": [
    {
     "name": "stdout",
     "output_type": "stream",
     "text": [
      "There are 3600 seconds in an hour.\n"
     ]
    }
   ],
   "source": [
    "seconds_in_minute = 60\n",
    "minutes_in_hour = 60\n",
    "\n",
    "seconds_in_hour = seconds_in_minute * minutes_in_hour\n",
    "\n",
    "print(\"There are\", seconds_in_hour, \"seconds in an hour.\")"
   ]
  },
  {
   "cell_type": "code",
   "execution_count": 4,
   "id": "12ccc4f2-a47d-4f46-8443-d8597402cbd4",
   "metadata": {},
   "outputs": [
    {
     "name": "stdout",
     "output_type": "stream",
     "text": [
      "Seconds per hour: 3600\n"
     ]
    }
   ],
   "source": [
    "seconds_in_minute = 60\n",
    "minutes_in_hour = 60\n",
    "\n",
    "seconds_per_hour = seconds_in_minute * minutes_in_hour\n",
    "\n",
    "print(\"Seconds per hour:\", seconds_per_hour)"
   ]
  },
  {
   "cell_type": "code",
   "execution_count": 5,
   "id": "406af637-f2e3-4830-83e1-9d4e9f01aa76",
   "metadata": {},
   "outputs": [
    {
     "name": "stdout",
     "output_type": "stream",
     "text": [
      "Seconds in a day: 86400\n"
     ]
    }
   ],
   "source": [
    "seconds_per_hour = 3600\n",
    "hours_in_day = 24\n",
    "seconds_in_day = seconds_per_hour * hours_in_day\n",
    "print(\"Seconds in a day:\", seconds_in_day)\n"
   ]
  },
  {
   "cell_type": "code",
   "execution_count": 6,
   "id": "59932fb0-d428-4844-a126-bc48266822b9",
   "metadata": {},
   "outputs": [
    {
     "name": "stdout",
     "output_type": "stream",
     "text": [
      "Seconds per day: 86400\n"
     ]
    }
   ],
   "source": [
    "seconds_per_hour = 3600\n",
    "hours_in_day = 24\n",
    "seconds_per_day = seconds_per_hour * hours_in_day\n",
    "print(\"Seconds per day:\", seconds_per_day)\n"
   ]
  },
  {
   "cell_type": "code",
   "execution_count": 7,
   "id": "98948c80-7750-4ff9-8c6f-4c252048b8fe",
   "metadata": {},
   "outputs": [
    {
     "name": "stdout",
     "output_type": "stream",
     "text": [
      "Result of division (floating-point): 24.0\n"
     ]
    }
   ],
   "source": [
    "division_result = seconds_per_day / seconds_per_hour\n",
    "print(\"Result of division (floating-point):\", division_result)\n"
   ]
  },
  {
   "cell_type": "code",
   "execution_count": 8,
   "id": "37bae4d9-1ffb-41dd-aaa6-422acb717a3c",
   "metadata": {},
   "outputs": [
    {
     "name": "stdout",
     "output_type": "stream",
     "text": [
      "Result of division (integer): 24\n"
     ]
    }
   ],
   "source": [
    "integer_division_result = seconds_per_day // seconds_per_hour\n",
    "print(\"Result of division (integer):\", integer_division_result)\n"
   ]
  },
  {
   "cell_type": "code",
   "execution_count": null,
   "id": "5b1030bf-ed67-46ce-91cb-b52cd7c105c1",
   "metadata": {},
   "outputs": [],
   "source": []
  }
 ],
 "metadata": {
  "kernelspec": {
   "display_name": "Python 3 (ipykernel)",
   "language": "python",
   "name": "python3"
  },
  "language_info": {
   "codemirror_mode": {
    "name": "ipython",
    "version": 3
   },
   "file_extension": ".py",
   "mimetype": "text/x-python",
   "name": "python",
   "nbconvert_exporter": "python",
   "pygments_lexer": "ipython3",
   "version": "3.11.7"
  }
 },
 "nbformat": 4,
 "nbformat_minor": 5
}
