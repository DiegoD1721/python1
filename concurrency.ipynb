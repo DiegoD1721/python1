{
 "cells": [
  {
   "cell_type": "markdown",
   "id": "91b01534-bf39-4856-86fa-dbe9b4325072",
   "metadata": {},
   "source": [
    "## concurrency in python"
   ]
  },
  {
   "cell_type": "code",
   "execution_count": 3,
   "id": "38f712e5-4230-44ad-a516-0cd2fb4c1f85",
   "metadata": {},
   "outputs": [],
   "source": [
    "from datetime import datetime\n",
    "\n",
    "current_date = datetime.now().strftime('%Y-%m-%d')\n",
    "\n",
    "with open('today.txt', 'w') as file:\n",
    "    file.write(current_date)\n"
   ]
  },
  {
   "cell_type": "code",
   "execution_count": 4,
   "id": "75b0bf66-1220-4809-95de-f3e63a380e13",
   "metadata": {},
   "outputs": [
    {
     "name": "stdout",
     "output_type": "stream",
     "text": [
      "2024-04-30\n"
     ]
    }
   ],
   "source": [
    "with open('today.txt', 'r') as file:\n",
    "    today_string = file.read()\n",
    "\n",
    "print(today_string)\n"
   ]
  },
  {
   "cell_type": "code",
   "execution_count": 5,
   "id": "d0136b4b-c5d9-44eb-90b5-05c89d5b070d",
   "metadata": {},
   "outputs": [
    {
     "name": "stdout",
     "output_type": "stream",
     "text": [
      "2024-04-30 00:00:00\n"
     ]
    }
   ],
   "source": [
    "from datetime import datetime\n",
    "\n",
    "parsed_date = datetime.strptime(today_string, '%Y-%m-%d')\n",
    "\n",
    "print(parsed_date)\n",
    "\n"
   ]
  },
  {
   "cell_type": "code",
   "execution_count": 6,
   "id": "b3a7a599-5860-49e9-b6cb-43b3393e759a",
   "metadata": {},
   "outputs": [],
   "source": [
    "import multiprocessing\n",
    "import random\n",
    "import time\n",
    "from datetime import datetime\n",
    "\n",
    "def print_current_time():\n",
    "    wait_time = random.random()\n",
    "    time.sleep(wait_time)\n",
    "    current_time = datetime.now().strftime('%H:%M:%S')\n",
    "    print(f\"Current time: {current_time}\")\n",
    "\n",
    "if __name__ == \"__main__\":\n",
    "    processes = []\n",
    "    for _ in range(3):\n",
    "        process = multiprocessing.Process(target=print_current_time)\n",
    "        processes.append(process)\n",
    "        process.start()\n",
    "\n",
    "    for process in processes:\n",
    "        process.join()\n"
   ]
  },
  {
   "cell_type": "code",
   "execution_count": null,
   "id": "7dc079c3-4fc5-4890-9d38-9fc9731a8af9",
   "metadata": {},
   "outputs": [],
   "source": []
  }
 ],
 "metadata": {
  "kernelspec": {
   "display_name": "Python 3 (ipykernel)",
   "language": "python",
   "name": "python3"
  },
  "language_info": {
   "codemirror_mode": {
    "name": "ipython",
    "version": 3
   },
   "file_extension": ".py",
   "mimetype": "text/x-python",
   "name": "python",
   "nbconvert_exporter": "python",
   "pygments_lexer": "ipython3",
   "version": "3.11.7"
  }
 },
 "nbformat": 4,
 "nbformat_minor": 5
}
