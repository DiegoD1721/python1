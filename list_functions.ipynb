{
 "cells": [
  {
   "cell_type": "markdown",
   "id": "4e6ab9dd-1b68-49b5-b876-c7391531c78c",
   "metadata": {},
   "source": [
    "## list and functions"
   ]
  },
  {
   "cell_type": "code",
   "execution_count": 2,
   "id": "b913e096-3149-4ff5-8701-1a5334aef933",
   "metadata": {},
   "outputs": [
    {
     "name": "stdout",
     "output_type": "stream",
     "text": [
      "['mozzarella', 'cinderella', 'salmonella']\n"
     ]
    }
   ],
   "source": [
    "things = [\"mozzarella\", \"cinderella\", \"salmonella\"]\n",
    "print(things)\n"
   ]
  },
  {
   "cell_type": "code",
   "execution_count": 3,
   "id": "b7ed560a-e361-4429-99d9-d4f8ab0f0f11",
   "metadata": {},
   "outputs": [
    {
     "name": "stdout",
     "output_type": "stream",
     "text": [
      "['mozzarella', 'Cinderella', 'salmonella']\n"
     ]
    }
   ],
   "source": [
    "things = [\"mozzarella\", \"cinderella\", \"salmonella\"]\n",
    "\n",
    "\n",
    "things[1] = things[1].title()\n",
    "\n",
    "print(things)\n"
   ]
  },
  {
   "cell_type": "code",
   "execution_count": 4,
   "id": "5a35bc1b-3342-43f8-9aae-5439a5c1e41f",
   "metadata": {},
   "outputs": [
    {
     "name": "stdout",
     "output_type": "stream",
     "text": [
      "['MOZZARELLA', 'Cinderella', 'salmonella']\n"
     ]
    }
   ],
   "source": [
    "things = [\"mozzarella\", \"Cinderella\", \"salmonella\"]\n",
    "\n",
    "\n",
    "things[0] = things[0].upper()\n",
    "\n",
    "print(things)\n"
   ]
  },
  {
   "cell_type": "code",
   "execution_count": 5,
   "id": "7452690c-df50-47a7-b17e-12512d34d8cf",
   "metadata": {},
   "outputs": [
    {
     "name": "stdout",
     "output_type": "stream",
     "text": [
      "['MOZZARELLA', 'Cinderella']\n"
     ]
    }
   ],
   "source": [
    "things = [\"MOZZARELLA\", \"Cinderella\", \"salmonella\"]\n",
    "\n",
    "\n",
    "things.remove(\"salmonella\")\n",
    "\n",
    "print(things)\n"
   ]
  },
  {
   "cell_type": "code",
   "execution_count": 6,
   "id": "0fd4f50f-0ba1-4e57-881e-7b7c5c5dcb71",
   "metadata": {},
   "outputs": [
    {
     "name": "stdout",
     "output_type": "stream",
     "text": [
      "['Harry', 'Ron', 'Hermione']\n"
     ]
    }
   ],
   "source": [
    "def good():\n",
    "    return ['Harry', 'Ron', 'Hermione']\n",
    "\n",
    "\n",
    "print(good())\n"
   ]
  },
  {
   "cell_type": "code",
   "execution_count": null,
   "id": "f3689fab-4137-4329-98b6-f0cd60a880c0",
   "metadata": {},
   "outputs": [],
   "source": [
    "def get_odds():\n",
    "    for number in range(1, 10, 2):  # range(10) for odd numbers\n",
    "        yield number\n",
    "\n",
    "# Using a for loop to find and print the third value returned\n",
    "count = 0\n",
    "for odd_number in get_odds():\n",
    "    count += 1\n",
    "    if count == 3:\n",
    "        print(\"The third odd number returned:\", odd_number)\n",
    "        break\n"
   ]
  }
 ],
 "metadata": {
  "kernelspec": {
   "display_name": "Python 3 (ipykernel)",
   "language": "python",
   "name": "python3"
  },
  "language_info": {
   "codemirror_mode": {
    "name": "ipython",
    "version": 3
   },
   "file_extension": ".py",
   "mimetype": "text/x-python",
   "name": "python",
   "nbconvert_exporter": "python",
   "pygments_lexer": "ipython3",
   "version": "3.11.7"
  }
 },
 "nbformat": 4,
 "nbformat_minor": 5
}
